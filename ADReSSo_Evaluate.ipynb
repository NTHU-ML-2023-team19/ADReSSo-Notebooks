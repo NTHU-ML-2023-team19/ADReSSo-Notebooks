{
 "cells": [
  {
   "cell_type": "code",
   "execution_count": 1,
   "metadata": {},
   "outputs": [
    {
     "name": "stderr",
     "output_type": "stream",
     "text": [
      "/home/nevikw/miniconda3/envs/ml-project/lib/python3.11/site-packages/tqdm/auto.py:21: TqdmWarning: IProgress not found. Please update jupyter and ipywidgets. See https://ipywidgets.readthedocs.io/en/stable/user_install.html\n",
      "  from .autonotebook import tqdm as notebook_tqdm\n"
     ]
    }
   ],
   "source": [
    "from random import randint\n",
    "import warnings\n",
    "\n",
    "from datasets import load_dataset, Audio\n",
    "from transformers import (\n",
    "    AutoFeatureExtractor,\n",
    "    AutoModelForAudioClassification,\n",
    "    TrainingArguments,\n",
    "    Trainer,\n",
    ")\n",
    "import evaluate\n",
    "import numpy as np"
   ]
  },
  {
   "cell_type": "code",
   "execution_count": 2,
   "metadata": {},
   "outputs": [],
   "source": [
    "CHECK_POINT = \"./models/whisper-large-v3_ADReSSO/checkpoint-16\"\n",
    "MODEL = \"whisper-large-v3_ADReSSO\"\n",
    "SAMPLE_DURATION = 30\n",
    "BATCH_SIZE = 32\n",
    "HALF_PRECISION = False"
   ]
  },
  {
   "cell_type": "code",
   "execution_count": 3,
   "metadata": {},
   "outputs": [],
   "source": [
    "feature_extractor = AutoFeatureExtractor.from_pretrained(CHECK_POINT)\n",
    "\n",
    "preprocess = lambda examples: feature_extractor(\n",
    "    [i[\"array\"][(n := randint(0, len(i[\"array\"]) - (m := min(len(i[\"array\"]), feature_extractor.sampling_rate*SAMPLE_DURATION)))) : n + m] for i in examples[\"audio\"]],\n",
    "    sampling_rate=feature_extractor.sampling_rate,\n",
    "    do_normalize=True,\n",
    "    # max_length=16_000*args.sample_duration,\n",
    "    # truncation=True,\n",
    ")"
   ]
  },
  {
   "cell_type": "code",
   "execution_count": 4,
   "metadata": {},
   "outputs": [],
   "source": [
    "test = load_dataset(\"nevikw39/ADReSSo\", split=\"test\").cast_column(\"audio\", Audio(sampling_rate=feature_extractor.sampling_rate))"
   ]
  },
  {
   "cell_type": "code",
   "execution_count": 5,
   "metadata": {},
   "outputs": [],
   "source": [
    "labels = test.features[\"label\"].names\n",
    "num_labels = len(labels)\n",
    "label2id, id2label = dict(), dict()\n",
    "for i, label in enumerate(labels):\n",
    "    label2id[label] = str(i)\n",
    "    id2label[str(i)] = label"
   ]
  },
  {
   "cell_type": "code",
   "execution_count": 6,
   "metadata": {},
   "outputs": [],
   "source": [
    "model = AutoModelForAudioClassification.from_pretrained(\n",
    "    CHECK_POINT, num_labels=num_labels, label2id=label2id, id2label=id2label\n",
    ")"
   ]
  },
  {
   "cell_type": "code",
   "execution_count": 7,
   "metadata": {},
   "outputs": [],
   "source": [
    "accuracy = evaluate.load(\"accuracy\")\n",
    "f1 = evaluate.load(\"f1\")\n",
    "specificity = evaluate.load(\"nevikw39/specificity\")"
   ]
  },
  {
   "cell_type": "code",
   "execution_count": 8,
   "metadata": {},
   "outputs": [
    {
     "name": "stderr",
     "output_type": "stream",
     "text": [
      "/home/nevikw/miniconda3/envs/ml-project/lib/python3.11/site-packages/transformers/training_args.py:1724: FutureWarning: `--push_to_hub_organization` is deprecated and will be removed in version 5 of 🤗 Transformers. Use `--hub_model_id` instead and pass the full repo name to this argument (in this case NTHU-ML-2023-team19/whisper-large-v3_ADRESSO).\n",
      "  warnings.warn(\n"
     ]
    }
   ],
   "source": [
    "training_args = TrainingArguments(\n",
    "    output_dir=f\"./models/{MODEL}\",\n",
    "    per_device_eval_batch_size=BATCH_SIZE,\n",
    "    push_to_hub_organization=\"NTHU-ML-2023-team19\",\n",
    "    push_to_hub=True,\n",
    "    hub_private_repo=True,\n",
    ")"
   ]
  },
  {
   "cell_type": "code",
   "execution_count": 9,
   "metadata": {},
   "outputs": [
    {
     "name": "stderr",
     "output_type": "stream",
     "text": [
      "Detected kernel version 5.4.0, which is below the recommended minimum of 5.5.0; this can cause the process to hang. It is recommended to upgrade the kernel to the minimum version or higher.\n"
     ]
    }
   ],
   "source": [
    "trainer = Trainer(\n",
    "    model=model,\n",
    "    args=training_args,\n",
    "    tokenizer=feature_extractor,\n",
    "    compute_metrics=lambda eval_pred: (\n",
    "        accuracy.compute(\n",
    "            predictions=(pred := np.argmax(eval_pred.predictions, axis=1)),\n",
    "            references=eval_pred.label_ids,\n",
    "        ) | f1.compute(\n",
    "            predictions=pred,\n",
    "            references=eval_pred.label_ids,\n",
    "        ) | specificity.compute(\n",
    "            predictions=pred,\n",
    "            references=eval_pred.label_ids,\n",
    "        )\n",
    "    ),\n",
    ")"
   ]
  },
  {
   "cell_type": "code",
   "execution_count": 23,
   "metadata": {},
   "outputs": [
    {
     "name": "stderr",
     "output_type": "stream",
     "text": [
      "Map:   0%|          | 0/71 [00:00<?, ? examples/s]"
     ]
    },
    {
     "name": "stderr",
     "output_type": "stream",
     "text": [
      "Map: 100%|██████████| 71/71 [00:09<00:00,  7.75 examples/s]\n",
      "/home/nevikw/miniconda3/envs/ml-project/lib/python3.11/site-packages/torch/nn/parallel/_functions.py:68: UserWarning: Was asked to gather along dimension 0, but all input tensors were scalars; will instead unsqueeze and return a vector.\n",
      "  warnings.warn('Was asked to gather along dimension 0, but all '\n"
     ]
    },
    {
     "data": {
      "text/plain": [
       "{'eval_loss': 0.4751740097999573,\n",
       " 'eval_accuracy': 0.8450704225352113,\n",
       " 'eval_f1': 0.8405797101449276,\n",
       " 'eval_specificity': 0.8857142857142857,\n",
       " 'eval_runtime': 16.048,\n",
       " 'eval_samples_per_second': 4.424,\n",
       " 'eval_steps_per_second': 0.187}"
      ]
     },
     "execution_count": 23,
     "metadata": {},
     "output_type": "execute_result"
    }
   ],
   "source": [
    "trainer.evaluate(test.map(preprocess, remove_columns=\"audio\", batched=True, load_from_cache_file=False))"
   ]
  },
  {
   "cell_type": "code",
   "execution_count": 24,
   "metadata": {},
   "outputs": [
    {
     "name": "stderr",
     "output_type": "stream",
     "text": [
      "training_args.bin: 100%|██████████| 4.66k/4.66k [00:00<00:00, 16.2kB/s]\n"
     ]
    },
    {
     "data": {
      "text/plain": [
       "'https://huggingface.co/NTHU-ML-2023-team19/whisper-large-v3_ADRESSO/tree/main/'"
      ]
     },
     "execution_count": 24,
     "metadata": {},
     "output_type": "execute_result"
    }
   ],
   "source": [
    "trainer.save_model(f\"./models/{MODEL}\")\n",
    "trainer.push_to_hub()"
   ]
  }
 ],
 "metadata": {
  "kernelspec": {
   "display_name": "ml-project",
   "language": "python",
   "name": "python3"
  },
  "language_info": {
   "codemirror_mode": {
    "name": "ipython",
    "version": 3
   },
   "file_extension": ".py",
   "mimetype": "text/x-python",
   "name": "python",
   "nbconvert_exporter": "python",
   "pygments_lexer": "ipython3",
   "version": "3.11.5"
  },
  "orig_nbformat": 4
 },
 "nbformat": 4,
 "nbformat_minor": 2
}
